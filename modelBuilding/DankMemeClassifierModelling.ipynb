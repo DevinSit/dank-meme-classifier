{
 "cells": [
  {
   "cell_type": "markdown",
   "metadata": {},
   "source": [
    "# Dank Meme Classifier - Modelling\n",
    "\n",
    "## Author: Devin Sit\n",
    "## Student Number: 8197863"
   ]
  },
  {
   "cell_type": "code",
   "execution_count": null,
   "metadata": {
    "colab": {},
    "colab_type": "code",
    "id": "Mxti4sQuWBBG"
   },
   "outputs": [],
   "source": [
    "!pip install pillow\n",
    "!pip install tensorflow\n",
    "!pip install keras\n",
    "# etc"
   ]
  },
  {
   "cell_type": "code",
   "execution_count": null,
   "metadata": {},
   "outputs": [],
   "source": [
    "# Key Hyperparameters\n",
    "\n",
    "IMAGE_SIZE = 128\n",
    "FINAL_DENSE_LAYERS_COUNT = 1\n",
    "FINAL_DENSE_LAYERS_SIZE = 40\n",
    "EPOCHS = 20\n",
    "BATCH_SIZE = 40\n",
    "DROPOUT_RATE = 0.5\n",
    "LEARNING_RATE = 0.0001\n",
    "IMAGE_SHEAR_RANGE = 0.2\n",
    "IMAGE_ZOOM_RANGE = 0.2\n",
    "IMAGE_WIDTH_SHIFT_RANGE = 0.1\n",
    "IMAGE_HEIGHT_SHIFT_RANGE = 0.1"
   ]
  },
  {
   "cell_type": "code",
   "execution_count": null,
   "metadata": {
    "colab": {
     "base_uri": "https://localhost:8080/",
     "height": 935
    },
    "colab_type": "code",
    "executionInfo": {
     "elapsed": 2753,
     "status": "ok",
     "timestamp": 1540437522583,
     "user": {
      "displayName": "Dev S",
      "photoUrl": "",
      "userId": "08070323056313453755"
     },
     "user_tz": 240
    },
    "id": "THDyEx2iWBBJ",
    "outputId": "caa2db23-a761-4ced-8188-a3c72db3bb87"
   },
   "outputs": [
    {
     "name": "stderr",
     "output_type": "stream",
     "text": [
      "Using TensorFlow backend.\n"
     ]
    },
    {
     "name": "stdout",
     "output_type": "stream",
     "text": [
      "_________________________________________________________________\n",
      "Layer (type)                 Output Shape              Param #   \n",
      "=================================================================\n",
      "input_1 (InputLayer)         (None, 128, 128, 3)       0         \n",
      "_________________________________________________________________\n",
      "block1_conv1 (Conv2D)        (None, 128, 128, 64)      1792      \n",
      "_________________________________________________________________\n",
      "block1_conv2 (Conv2D)        (None, 128, 128, 64)      36928     \n",
      "_________________________________________________________________\n",
      "block1_pool (MaxPooling2D)   (None, 64, 64, 64)        0         \n",
      "_________________________________________________________________\n",
      "block2_conv1 (Conv2D)        (None, 64, 64, 128)       73856     \n",
      "_________________________________________________________________\n",
      "block2_conv2 (Conv2D)        (None, 64, 64, 128)       147584    \n",
      "_________________________________________________________________\n",
      "block2_pool (MaxPooling2D)   (None, 32, 32, 128)       0         \n",
      "_________________________________________________________________\n",
      "block3_conv1 (Conv2D)        (None, 32, 32, 256)       295168    \n",
      "_________________________________________________________________\n",
      "block3_conv2 (Conv2D)        (None, 32, 32, 256)       590080    \n",
      "_________________________________________________________________\n",
      "block3_conv3 (Conv2D)        (None, 32, 32, 256)       590080    \n",
      "_________________________________________________________________\n",
      "block3_pool (MaxPooling2D)   (None, 16, 16, 256)       0         \n",
      "_________________________________________________________________\n",
      "block4_conv1 (Conv2D)        (None, 16, 16, 512)       1180160   \n",
      "_________________________________________________________________\n",
      "block4_conv2 (Conv2D)        (None, 16, 16, 512)       2359808   \n",
      "_________________________________________________________________\n",
      "block4_conv3 (Conv2D)        (None, 16, 16, 512)       2359808   \n",
      "_________________________________________________________________\n",
      "block4_pool (MaxPooling2D)   (None, 8, 8, 512)         0         \n",
      "_________________________________________________________________\n",
      "block5_conv1 (Conv2D)        (None, 8, 8, 512)         2359808   \n",
      "_________________________________________________________________\n",
      "block5_conv2 (Conv2D)        (None, 8, 8, 512)         2359808   \n",
      "_________________________________________________________________\n",
      "block5_conv3 (Conv2D)        (None, 8, 8, 512)         2359808   \n",
      "_________________________________________________________________\n",
      "max_pooling2d_1 (MaxPooling2 (None, 4, 4, 512)         0         \n",
      "_________________________________________________________________\n",
      "flatten_1 (Flatten)          (None, 8192)              0         \n",
      "_________________________________________________________________\n",
      "dense_1 (Dense)              (None, 40)                327720    \n",
      "_________________________________________________________________\n",
      "dropout_1 (Dropout)          (None, 40)                0         \n",
      "_________________________________________________________________\n",
      "dense_2 (Dense)              (None, 2)                 82        \n",
      "=================================================================\n",
      "Total params: 15,042,490\n",
      "Trainable params: 327,802\n",
      "Non-trainable params: 14,714,688\n",
      "_________________________________________________________________\n"
     ]
    }
   ],
   "source": [
    "import sys\n",
    "from PIL import Image\n",
    "sys.modules[\"Image\"] = Image\n",
    "\n",
    "import keras\n",
    "from keras.models import Sequential\n",
    "from keras.layers import Conv2D, MaxPooling2D\n",
    "from keras.layers import Activation, Dropout, Flatten, Dense\n",
    "from keras.preprocessing.image import ImageDataGenerator\n",
    "from keras.applications import vgg16\n",
    "from keras.callbacks import ModelCheckpoint\n",
    "\n",
    "# Build the model\n",
    "\n",
    "VGG16 = vgg16.VGG16(include_top=False, input_shape=(128, 128, 3))\n",
    "\n",
    "model = Sequential()\n",
    "\n",
    "for layer in VGG16.layers[:-1]:\n",
    "  model.add(layer)\n",
    "  \n",
    "for layer in model.layers:\n",
    "  layer.trainable = False\n",
    "\n",
    "model.add(MaxPooling2D(pool_size=(2, 2)))\n",
    "model.add(Flatten())\n",
    "\n",
    "for i in range(FINAL_DENSE_LAYERS_COUNT):\n",
    "    model.add(Dense(FINAL_DENSE_LAYERS_SIZE, activation=\"relu\"))\n",
    "    \n",
    "model.add(Dropout(DROPOUT_RATE))\n",
    "model.add(Dense(2, activation=\"softmax\"))\n",
    "\n",
    "model.compile(\n",
    "    keras.optimizers.Adam(lr=LEARNING_RATE),\n",
    "    \"categorical_crossentropy\",\n",
    "    metrics=['accuracy']\n",
    ")\n",
    "\n",
    "model.summary()"
   ]
  },
  {
   "cell_type": "code",
   "execution_count": null,
   "metadata": {
    "colab": {
     "base_uri": "https://localhost:8080/",
     "height": 51
    },
    "colab_type": "code",
    "executionInfo": {
     "elapsed": 1534,
     "status": "ok",
     "timestamp": 1540437527770,
     "user": {
      "displayName": "Dev S",
      "photoUrl": "",
      "userId": "08070323056313453755"
     },
     "user_tz": 240
    },
    "id": "-HfUecLRWBBO",
    "outputId": "40e3805b-466c-488f-864d-fc599e90c3b8"
   },
   "outputs": [
    {
     "name": "stdout",
     "output_type": "stream",
     "text": [
      "Found 24000 images belonging to 2 classes.\n",
      "Found 6000 images belonging to 2 classes.\n"
     ]
    }
   ],
   "source": [
    "# Setup image generators\n",
    "\n",
    "number_of_training_samples = 24000\n",
    "number_of_validation_samples = 6000\n",
    "\n",
    "train_datagen = ImageDataGenerator(\n",
    "    shear_range=IMAGE_SHEAR_RANGE, \n",
    "    zoom_range=IMAGE_ZOOM_RANGE, \n",
    "    width_shift_range=IMAGE_WIDTH_SHIFT_RANGE, \n",
    "    height_shift_range=IMAGE_HEIGHT_SHIFT_RANGE\n",
    ")\n",
    "\n",
    "test_datagen = ImageDataGenerator()\n",
    "\n",
    "train_generator = train_datagen.flow_from_directory(\n",
    "    \"/tmp/data/training\",\n",
    "    target_size=(IMAGE_SIZE, IMAGE_SIZE),\n",
    "    batch_size=BATCH_SIZE,\n",
    "    class_mode='categorical'\n",
    ")\n",
    "\n",
    "validation_generator = test_datagen.flow_from_directory(\n",
    "    \"/tmp/data/validation\",\n",
    "    target_size=(IMAGE_SIZE, IMAGE_SIZE),\n",
    "    batch_size=BATCH_SIZE,\n",
    "    class_mode='categorical'\n",
    ")"
   ]
  },
  {
   "cell_type": "code",
   "execution_count": null,
   "metadata": {
    "colab": {
     "base_uri": "https://localhost:8080/",
     "height": 1377
    },
    "colab_type": "code",
    "executionInfo": {
     "elapsed": 3662182,
     "status": "ok",
     "timestamp": 1540441308502,
     "user": {
      "displayName": "Dev S",
      "photoUrl": "",
      "userId": "08070323056313453755"
     },
     "user_tz": 240
    },
    "id": "EQ07P1loWBBR",
    "outputId": "92182730-b935-4c4f-ec61-f9adbcc8facd"
   },
   "outputs": [
    {
     "name": "stdout",
     "output_type": "stream",
     "text": [
      "Epoch 1/20\n",
      "600/600 [==============================] - 185s 309ms/step - loss: 1.8887 - acc: 0.5283 - val_loss: 0.7011 - val_acc: 0.5373\n",
      "\n",
      "Epoch 00001: val_acc improved from -inf to 0.53733, saving model to vgg16_complex_small_images_40_dense_checkpoint.h5\n",
      "Epoch 2/20\n",
      "600/600 [==============================] - 183s 305ms/step - loss: 0.6933 - acc: 0.5626 - val_loss: 0.6877 - val_acc: 0.5605\n",
      "\n",
      "Epoch 00002: val_acc improved from 0.53733 to 0.56050, saving model to vgg16_complex_small_images_40_dense_checkpoint.h5\n",
      "Epoch 3/20\n",
      "600/600 [==============================] - 183s 305ms/step - loss: 0.6826 - acc: 0.5704 - val_loss: 0.6819 - val_acc: 0.5623\n",
      "\n",
      "Epoch 00003: val_acc improved from 0.56050 to 0.56233, saving model to vgg16_complex_small_images_40_dense_checkpoint.h5\n",
      "Epoch 4/20\n",
      "600/600 [==============================] - 183s 305ms/step - loss: 0.6782 - acc: 0.5732 - val_loss: 0.6805 - val_acc: 0.5665\n",
      "\n",
      "Epoch 00004: val_acc improved from 0.56233 to 0.56650, saving model to vgg16_complex_small_images_40_dense_checkpoint.h5\n",
      "Epoch 5/20\n",
      "600/600 [==============================] - 182s 304ms/step - loss: 0.6753 - acc: 0.5760 - val_loss: 0.6797 - val_acc: 0.5638\n",
      "\n",
      "Epoch 00005: val_acc did not improve from 0.56650\n",
      "Epoch 6/20\n",
      "600/600 [==============================] - 183s 305ms/step - loss: 0.6701 - acc: 0.5831 - val_loss: 0.6798 - val_acc: 0.5692\n",
      "\n",
      "Epoch 00006: val_acc improved from 0.56650 to 0.56917, saving model to vgg16_complex_small_images_40_dense_checkpoint.h5\n",
      "Epoch 7/20\n",
      "600/600 [==============================] - 182s 304ms/step - loss: 0.6667 - acc: 0.5868 - val_loss: 0.6774 - val_acc: 0.5705\n",
      "\n",
      "Epoch 00007: val_acc improved from 0.56917 to 0.57050, saving model to vgg16_complex_small_images_40_dense_checkpoint.h5\n",
      "Epoch 8/20\n",
      "600/600 [==============================] - 182s 304ms/step - loss: 0.6670 - acc: 0.5852 - val_loss: 0.6772 - val_acc: 0.5653\n",
      "\n",
      "Epoch 00008: val_acc did not improve from 0.57050\n",
      "Epoch 9/20\n",
      "600/600 [==============================] - 182s 304ms/step - loss: 0.6632 - acc: 0.5925 - val_loss: 0.6788 - val_acc: 0.5682\n",
      "\n",
      "Epoch 00009: val_acc did not improve from 0.57050\n",
      "Epoch 10/20\n",
      "600/600 [==============================] - 183s 304ms/step - loss: 0.6602 - acc: 0.5932 - val_loss: 0.6815 - val_acc: 0.5682\n",
      "\n",
      "Epoch 00010: val_acc did not improve from 0.57050\n",
      "Epoch 11/20\n",
      "600/600 [==============================] - 183s 306ms/step - loss: 0.6610 - acc: 0.5934 - val_loss: 0.6786 - val_acc: 0.5737\n",
      "\n",
      "Epoch 00011: val_acc improved from 0.57050 to 0.57367, saving model to vgg16_complex_small_images_40_dense_checkpoint.h5\n",
      "Epoch 12/20\n",
      "600/600 [==============================] - 183s 305ms/step - loss: 0.6578 - acc: 0.5966 - val_loss: 0.6808 - val_acc: 0.5653\n",
      "\n",
      "Epoch 00012: val_acc did not improve from 0.57367\n",
      "Epoch 13/20\n",
      "600/600 [==============================] - 183s 305ms/step - loss: 0.6569 - acc: 0.5951 - val_loss: 0.6874 - val_acc: 0.5727\n",
      "\n",
      "Epoch 00013: val_acc did not improve from 0.57367\n",
      "Epoch 14/20\n",
      "600/600 [==============================] - 183s 305ms/step - loss: 0.6517 - acc: 0.6033 - val_loss: 0.6852 - val_acc: 0.5695\n",
      "\n",
      "Epoch 00014: val_acc did not improve from 0.57367\n",
      "Epoch 15/20\n",
      "600/600 [==============================] - 183s 305ms/step - loss: 0.6517 - acc: 0.6000 - val_loss: 0.6865 - val_acc: 0.5587\n",
      "\n",
      "Epoch 00015: val_acc did not improve from 0.57367\n",
      "Epoch 16/20\n",
      "600/600 [==============================] - 183s 306ms/step - loss: 0.6481 - acc: 0.6067 - val_loss: 0.6880 - val_acc: 0.5687\n",
      "\n",
      "Epoch 00016: val_acc did not improve from 0.57367\n",
      "Epoch 17/20\n",
      "600/600 [==============================] - 183s 306ms/step - loss: 0.6446 - acc: 0.6114 - val_loss: 0.6884 - val_acc: 0.5695\n",
      "\n",
      "Epoch 00017: val_acc did not improve from 0.57367\n",
      "Epoch 18/20\n",
      "600/600 [==============================] - 183s 305ms/step - loss: 0.6448 - acc: 0.6100 - val_loss: 0.6865 - val_acc: 0.5640\n",
      "\n",
      "Epoch 00018: val_acc did not improve from 0.57367\n",
      "Epoch 19/20\n",
      "600/600 [==============================] - 183s 305ms/step - loss: 0.6463 - acc: 0.6096 - val_loss: 0.6852 - val_acc: 0.5715\n",
      "\n",
      "Epoch 00019: val_acc did not improve from 0.57367\n",
      "Epoch 20/20\n",
      "600/600 [==============================] - 183s 305ms/step - loss: 0.6405 - acc: 0.6151 - val_loss: 0.6895 - val_acc: 0.5677\n",
      "\n",
      "Epoch 00020: val_acc did not improve from 0.57367\n"
     ]
    }
   ],
   "source": [
    "# Train the model\n",
    "\n",
    "filename = \"dank_meme_classifier.h5\"\n",
    "checkpoint = ModelCheckpoint(filename, monitor=\"val_acc\", verbose=1, save_best_only=True, mode=\"max\")\n",
    "\n",
    "history = model.fit_generator(\n",
    "    train_generator,\n",
    "    steps_per_epoch=number_of_training_samples // BATCH_SIZE,\n",
    "    epochs=EPOCHS,\n",
    "    validation_data=validation_generator,\n",
    "    validation_steps=number_of_validation_samples // BATCH_SIZE,\n",
    "    callbacks = [checkpoint]\n",
    ")"
   ]
  },
  {
   "cell_type": "code",
   "execution_count": null,
   "metadata": {
    "colab": {
     "base_uri": "https://localhost:8080/",
     "height": 822
    },
    "colab_type": "code",
    "executionInfo": {
     "elapsed": 1256,
     "status": "ok",
     "timestamp": 1540441327108,
     "user": {
      "displayName": "Dev S",
      "photoUrl": "",
      "userId": "08070323056313453755"
     },
     "user_tz": 240
    },
    "id": "jPIl1O5eVbm7",
    "outputId": "a524f689-ea68-4616-8a03-96a7f81c6cb2"
   },
   "outputs": [
    {
     "data": {
      "text/plain": [
       "Text(0.5,1,'Accuracy Curves')"
      ]
     },
     "execution_count": 4,
     "metadata": {
      "tags": []
     },
     "output_type": "execute_result"
    },
    {
     "data": {
      "image/png": "[encoded data removed]",
      "text/plain": [
       "<matplotlib.figure.Figure at 0x7f6fee958278>"
      ]
     },
     "metadata": {
      "tags": []
     },
     "output_type": "display_data"
    },
    {
     "data": {
      "image/png": "[encoded data removed]",
      "text/plain": [
       "<matplotlib.figure.Figure at 0x7f7002829a20>"
      ]
     },
     "metadata": {
      "tags": []
     },
     "output_type": "display_data"
    }
   ],
   "source": [
    "import matplotlib.pyplot as plt\n",
    "\n",
    "# Loss Curves\n",
    "plt.figure(figsize=[8,6])\n",
    "plt.plot(history.history['loss'],'r',linewidth=3.0)\n",
    "plt.plot(history.history['val_loss'],'b',linewidth=3.0)\n",
    "plt.legend(['Training loss', 'Validation Loss'],fontsize=18)\n",
    "plt.xlabel('Epochs ',fontsize=16)\n",
    "plt.ylabel('Loss',fontsize=16)\n",
    "plt.title('Loss Curves',fontsize=16)\n",
    " \n",
    "# Accuracy Curves\n",
    "plt.figure(figsize=[8,6])\n",
    "plt.plot(history.history['acc'],'r',linewidth=3.0)\n",
    "plt.plot(history.history['val_acc'],'b',linewidth=3.0)\n",
    "plt.legend(['Training Accuracy', 'Validation Accuracy'],fontsize=18)\n",
    "plt.xlabel('Epochs ',fontsize=16)\n",
    "plt.ylabel('Accuracy',fontsize=16)\n",
    "plt.title('Accuracy Curves',fontsize=16)"
   ]
  },
  {
   "cell_type": "code",
   "execution_count": null,
   "metadata": {
    "colab": {},
    "colab_type": "code",
    "id": "Gx3HWTxQVoLg"
   },
   "outputs": [],
   "source": [
    "model.save(filename)"
   ]
  }
 ],
 "metadata": {
  "accelerator": "GPU",
  "colab": {
   "collapsed_sections": [],
   "name": "VGG16_Complex_small_images_40_dense_checkpoint.ipynb",
   "provenance": [
    {
     "file_id": "1YJT-Zy2Bk-4FgqqMj8TDKpxfDY1qWPHt",
     "timestamp": 1540441358815
    },
    {
     "file_id": "1NEx1HlmDxJp93J2vOcA050dZvbtZgDg5",
     "timestamp": 1540331188913
    },
    {
     "file_id": "1zFQM_HRZeKlUkx9lOq2vvbjbPUSR83fD",
     "timestamp": 1540325610751
    },
    {
     "file_id": "1xVcP20gZ1I9fKOHjRRmKL4RvRvRULRHx",
     "timestamp": 1540255035845
    }
   ],
   "toc_visible": true,
   "version": "0.3.2"
  },
  "kernelspec": {
   "display_name": "Python 3",
   "language": "python",
   "name": "python3"
  },
  "language_info": {
   "codemirror_mode": {
    "name": "ipython",
    "version": 3
   },
   "file_extension": ".py",
   "mimetype": "text/x-python",
   "name": "python",
   "nbconvert_exporter": "python",
   "pygments_lexer": "ipython3",
   "version": "3.5.2"
  }
 },
 "nbformat": 4,
 "nbformat_minor": 2
}
